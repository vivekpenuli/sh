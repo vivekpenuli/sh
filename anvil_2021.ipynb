{
  "nbformat": 4,
  "nbformat_minor": 0,
  "metadata": {
    "colab": {
      "name": "anvil 2021",
      "provenance": [],
      "collapsed_sections": [],
      "authorship_tag": "ABX9TyODflDQeGRWhVsxsjsHm8j6",
      "include_colab_link": true
    },
    "kernelspec": {
      "name": "python3",
      "display_name": "Python 3"
    },
    "language_info": {
      "name": "python"
    }
  },
  "cells": [
    {
      "cell_type": "markdown",
      "metadata": {
        "id": "view-in-github",
        "colab_type": "text"
      },
      "source": [
        "<a href=\"https://colab.research.google.com/github/vivekpenuli/sh/blob/main/anvil_2021.ipynb\" target=\"_parent\"><img src=\"https://colab.research.google.com/assets/colab-badge.svg\" alt=\"Open In Colab\"/></a>"
      ]
    },
    {
      "cell_type": "code",
      "metadata": {
        "colab": {
          "base_uri": "https://localhost:8080/"
        },
        "id": "PGH8PaNqccp3",
        "outputId": "8fd5921c-d438-4ab9-bca4-1c616d893477"
      },
      "source": [
        "pip install anvil-uplink"
      ],
      "execution_count": null,
      "outputs": [
        {
          "output_type": "stream",
          "text": [
            "Requirement already satisfied: anvil-uplink in /usr/local/lib/python3.7/dist-packages (0.3.36)\n",
            "Requirement already satisfied: future in /usr/local/lib/python3.7/dist-packages (from anvil-uplink) (0.16.0)\n",
            "Requirement already satisfied: ws4py in /usr/local/lib/python3.7/dist-packages (from anvil-uplink) (0.5.1)\n",
            "Requirement already satisfied: argparse in /usr/local/lib/python3.7/dist-packages (from anvil-uplink) (1.4.0)\n",
            "Requirement already satisfied: six in /usr/local/lib/python3.7/dist-packages (from anvil-uplink) (1.15.0)\n"
          ],
          "name": "stdout"
        }
      ]
    },
    {
      "cell_type": "code",
      "metadata": {
        "id": "DHOI-Sebcm4d"
      },
      "source": [
        "import pickle\n",
        "with open('Telecom','rb') as file:\n",
        "    Telecom= pickle.load(file)"
      ],
      "execution_count": null,
      "outputs": []
    },
    {
      "cell_type": "code",
      "metadata": {
        "colab": {
          "base_uri": "https://localhost:8080/"
        },
        "id": "Rugx9Kmxcm25",
        "outputId": "8d8bf959-166a-411e-edf9-8ba97dd37725"
      },
      "source": [
        "Telecom.predict([[29,1,0,1,0,1,1,1,1,0,0,1,0,0]])"
      ],
      "execution_count": null,
      "outputs": [
        {
          "output_type": "execute_result",
          "data": {
            "text/plain": [
              "array([0])"
            ]
          },
          "metadata": {
            "tags": []
          },
          "execution_count": 12
        }
      ]
    },
    {
      "cell_type": "code",
      "metadata": {
        "colab": {
          "base_uri": "https://localhost:8080/"
        },
        "id": "p13j0CNJcm1i",
        "outputId": "5370d4e6-25c2-4e0a-add7-2b886f6b02d5"
      },
      "source": [
        "import anvil.server\n",
        "\n",
        "anvil.server.connect(\"VPKIRRVFLOFIZGUX4DIZYISC-FSZ6PRDJWF535VPR\")"
      ],
      "execution_count": null,
      "outputs": [
        {
          "output_type": "stream",
          "text": [
            "Connecting to wss://anvil.works/uplink\n",
            "Anvil websocket open\n",
            "Connected to \"Default environment (dev)\" as SERVER\n"
          ],
          "name": "stdout"
        }
      ]
    },
    {
      "cell_type": "code",
      "metadata": {
        "id": "yLhvYuijcmz9"
      },
      "source": [
        "@anvil.server.callable\n",
        "def get_data(a,b,c,d,e,f,g,h,i,j):\n",
        "  \n",
        "  if i==\"DSL\" and j==\"monthly\":\n",
        "    score=Telecom.predict([[int(a),int(b),int(c),int(d),int(e),int(f),int(g),int(h),1,0,0,1,0,0]])\n",
        "\n",
        "  elif i==\"DSL\" and j==\"oneyear\":\n",
        "    score=Telecom.predict([[int(a),int(b),int(c),int(d),int(e),int(f),int(g),int(h),1,0,0,0,1,0]])\n",
        "\n",
        "  elif i==\"DSL\" and j==\"twoyear\":\n",
        "    score=Telecom.predict([[int(a),int(b),int(c),int(d),int(e),int(f),int(g),int(h),1,0,0,0,0,1]])\n",
        "\n",
        "  elif i==\"fiber\" and j==\"monthly\":\n",
        "    score=Telecom.predict([[int(a),int(b),int(c),int(d),int(e),int(f),int(g),int(h),0,1,0,1,0,0]])\n",
        "\n",
        "  elif i==\"fiber\" and j==\"oneyear\":\n",
        "    score=Telecom.predict([[int(a),int(b),int(c),int(d),int(e),int(f),int(g),int(h),0,1,0,0,1,0]])\n",
        "\n",
        "  elif i==\"fiber\" and j==\"twoyear\":\n",
        "    score=Telecom.predict([[int(a),int(b),int(c),int(d),int(e),int(f),int(g),int(h),0,1,0,0,0,1]])\n",
        "\n",
        "  elif i==\"no\" and j==\"monthly\":\n",
        "    score=Telecom.predict([[int(a),int(b),int(c),int(d),int(e),int(f),int(g),int(h),0,0,1,1,0,0]])\n",
        "\n",
        "  elif i==\"no\" and j==\"oneyear\":\n",
        "    score=Telecom.predict([[int(a),int(b),int(c),int(d),int(e),f,int(g),int(h),0,0,1,0,1,0]])\n",
        "\n",
        "  elif i==\"no\" and j==\"twoyear\":\n",
        "    score=Telecom.predict([[int(a),int(b),int(c),int(d),int(e),int(f),int(g),int(h),0,0,1,0,0,1]])\n",
        "  \n",
        "\n",
        "  result=score\n",
        "  if result==1:\n",
        "    return ('This customer will leave your Company [1]')\n",
        "  elif result==0:\n",
        "    return (\"This customer will not leave your Company [0]\")\n",
        "\n"
      ],
      "execution_count": null,
      "outputs": []
    },
    {
      "cell_type": "code",
      "metadata": {
        "id": "sh0JysJOcmxF"
      },
      "source": [
        ""
      ],
      "execution_count": null,
      "outputs": []
    },
    {
      "cell_type": "code",
      "metadata": {
        "id": "EvRCtGNmcmv0"
      },
      "source": [
        ""
      ],
      "execution_count": null,
      "outputs": []
    }
  ]
}